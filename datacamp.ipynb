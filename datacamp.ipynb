{
  "nbformat": 4,
  "nbformat_minor": 0,
  "metadata": {
    "accelerator": "GPU",
    "colab": {
      "name": "Julia_1.8.2_template.ipynb",
      "provenance": [],
      "include_colab_link": true
    },
    "kernelspec": {
      "display_name": "Julia 1.8",
      "language": "julia",
      "name": "julia-1.8"
    },
    "language_info": {
      "file_extension": ".jl",
      "mimetype": "application/julia",
      "name": "julia",
      "version": "1.8.2"
    }
  },
  "cells": [
    {
      "cell_type": "markdown",
      "metadata": {
        "id": "view-in-github",
        "colab_type": "text"
      },
      "source": [
        "<a href=\"https://colab.research.google.com/github/TMorgan99/LE-git/blob/master/datacamp.ipynb\" target=\"_parent\"><img src=\"https://colab.research.google.com/assets/colab-badge.svg\" alt=\"Open In Colab\"/></a>"
      ]
    },
    {
      "cell_type": "code",
      "metadata": {
        "id": "PMGwZ7aFJL8Y"
      },
      "source": [
        "# Installation cell\n",
        "%%capture\n",
        "%%shell\n",
        "if ! command -v julia 3>&1 > /dev/null\n",
        "then\n",
        "    wget -q 'https://julialang-s3.julialang.org/bin/linux/x64/1.8/julia-1.8.2-linux-x86_64.tar.gz' \\\n",
        "        -O /tmp/julia.tar.gz\n",
        "    tar -x -f /tmp/julia.tar.gz -C /usr/local --strip-components 1\n",
        "    rm /tmp/julia.tar.gz\n",
        "fi\n",
        "julia -e 'using Pkg; pkg\"add IJulia PlotlyLight DataFrames CSV Chain FreqTables CategoricalArrays; precompile;\"'\n",
        "echo 'Done'"
      ],
      "execution_count": 1,
      "outputs": []
    },
    {
      "cell_type": "markdown",
      "metadata": {
        "id": "XdMpcQduyaQc"
      },
      "source": [
        "After you run the first cell (the the cell directly above this text), go to Colab's menu bar and select **Edit** and select **Notebook settings** from the drop down. Select *Julia 1.8* in Runtime type. You can also select your prefered harwdware acceleration (defaults to GPU).\n",
        "\n",
        "<br/>You should see something like this:\n",
        "\n",
        "> ![Colab Img](https://raw.githubusercontent.com/Dsantra92/Julia-on-Colab/master/misc/julia_menu.png)\n",
        "\n",
        "<br/>Click on SAVE\n",
        "<br/>**We are ready to get going**\n",
        "\n",
        "\n",
        "\n"
      ]
    },
    {
      "cell_type": "code",
      "metadata": {
        "id": "iIxu4TjlJnBG",
        "colab": {
          "base_uri": "https://localhost:8080/"
        },
        "outputId": "ddf02770-daba-47a0-e2bf-9947734b3ea5"
      },
      "source": [
        "VERSION"
      ],
      "execution_count": null,
      "outputs": [
        {
          "output_type": "execute_result",
          "data": {
            "text/plain": [
              "v\"1.7.2\""
            ]
          },
          "metadata": {},
          "execution_count": 1
        }
      ]
    },
    {
      "cell_type": "markdown",
      "source": [
        "# Using Julia for some data wrangling taks\n"
      ],
      "metadata": {
        "internals": {
          "slide_type": "subslide",
          "slide_helper": "subslide_end"
        },
        "slide_helper": "slide_end",
        "id": "avfHS6WxDZXd"
      }
    },
    {
      "cell_type": "markdown",
      "source": [
        "`Julia` is a scripting language, like R and Python, with similarities and differences:\n"
      ],
      "metadata": {
        "id": "x_TEIXcYDZXe"
      }
    },
    {
      "cell_type": "markdown",
      "source": [
        "  * Like R and Python, the basic syntax of `Julia` is easy enough to learn\n",
        "  * Like R and unlike Python, `Julia` has a concept of generic methods and multiple dispatch as an alternative to object-oriented approaches\n",
        "  * `Julia` has a richer type system with parametric types helpful for generic programming over concrete types.\n",
        "  * `Julia`'s multiple dispatch is said to be as easy as S3 and as powerful as S4 (Styles for R)\n",
        "  * Unlike R and Python (but not variants), `Julia` uses llvm to on-the-fly compile its methods, resulting in a tradeoff balancing compile-time latency on first use with very rapid runtime after compilation\n",
        "  * When well written, `Julia` can match speeds of C and Fortran, so it is possible to avoid the \"two-language\" problem\n",
        "  * Like R and Python, base `Julia` code is readily extended  by add-on packages; packages are easily managed by a package manager.\n",
        "  * Like `R` and `Python`, `Julia` readily interfaces with other languages  (R, Python, C are good examples)\n",
        "  * `Julia` inherits practices from: lisp, R, Python, Ruby, and Matlab (making anyone feel at home?)\n",
        "  * For numerical programming, as is often done in Matlab and Python, `Julia` has many best in class packages (e.g. `SciML`)\n",
        "  * For general purpose programming, such is often done with Python, `Julia` has a pretty rich set of packages\n",
        "  * For statistical programming, such is often done with R, `Julia` has many packages and great promise for new-package development. Unlike R, most all statistical features are in add-on packages, such as `DataFrames.jl` shown below.\n"
      ],
      "metadata": {
        "id": "AdHEpLSeDZXf"
      }
    },
    {
      "cell_type": "markdown",
      "source": [
        "This presentation will demonstrate a modest data wrangling task that might be familiar to R users or Pandas users.\n"
      ],
      "metadata": {
        "id": "U5QzvyK-DZXg"
      }
    },
    {
      "cell_type": "markdown",
      "source": [
        "## A few key Julia features\n"
      ],
      "metadata": {
        "internals": {
          "slide_type": "subslide",
          "slide_helper": "subslide_end"
        },
        "slide_helper": "slide_end",
        "id": "8lV_pvYsDZXh"
      }
    },
    {
      "cell_type": "markdown",
      "source": [
        "### Types\n"
      ],
      "metadata": {
        "internals": {
          "slide_type": "subslide"
        },
        "slide_helper": "slide_end",
        "id": "-HDSpg4DDZXj"
      }
    },
    {
      "cell_type": "markdown",
      "source": [
        "Julia has types (not classes) for different code values\n"
      ],
      "metadata": {
        "id": "O7DQSMHvDZXj"
      }
    },
    {
      "cell_type": "markdown",
      "source": [
        "Base number types include:\n"
      ],
      "metadata": {
        "id": "Km9bf0SgDZXk"
      }
    },
    {
      "cell_type": "markdown",
      "source": [
        "  * integer, float, rational, big numbers, complex\n"
      ],
      "metadata": {
        "id": "Kzwf2d8QDZXl"
      }
    },
    {
      "outputs": [],
      "cell_type": "code",
      "source": [
        "i,s,r,b,c = 1, 1.0, 1//1, big(1), 1 + 0im"
      ],
      "metadata": {
        "id": "bl_Y-8CsDZXl"
      },
      "execution_count": null
    },
    {
      "outputs": [],
      "cell_type": "code",
      "source": [
        "typeof(i), typeof(r), typeof(s), typeof(b), typeof(c)"
      ],
      "metadata": {
        "id": "APzcjWFLDZXm"
      },
      "execution_count": null
    },
    {
      "cell_type": "markdown",
      "source": [
        "  * concrete versus abstract (Real, Integer, AbstractFloat)\n"
      ],
      "metadata": {
        "id": "P5HvpZcyDZXn"
      }
    },
    {
      "outputs": [],
      "cell_type": "code",
      "source": [
        "isa(i, Integer), isa(r, Integer), isa(b, Integer)"
      ],
      "metadata": {
        "id": "O2PDGC6tDZXn"
      },
      "execution_count": null
    },
    {
      "outputs": [],
      "cell_type": "code",
      "source": [
        "isa(s, Real), isa(s, AbstractFloat)"
      ],
      "metadata": {
        "id": "9KDCxTM-DZXp"
      },
      "execution_count": null
    },
    {
      "cell_type": "markdown",
      "source": [
        "Strings and symbols play a role in names for data frames:\n"
      ],
      "metadata": {
        "id": "hmrO22dbDZXp"
      }
    },
    {
      "outputs": [],
      "cell_type": "code",
      "source": [
        "\"string\", :symbol"
      ],
      "metadata": {
        "id": "Ak-UYc-xDZXr"
      },
      "execution_count": null
    },
    {
      "cell_type": "markdown",
      "source": [
        "`Julia` has both `nothing` and `missing`, with `missing` playing the role of `NA` in R.\n"
      ],
      "metadata": {
        "id": "ClRK7mN2DZXs"
      }
    },
    {
      "outputs": [],
      "cell_type": "code",
      "source": [
        "nothing, missing"
      ],
      "metadata": {
        "id": "7P1Ogh-xDZXs"
      },
      "execution_count": null
    },
    {
      "cell_type": "markdown",
      "source": [
        "### Containers\n"
      ],
      "metadata": {
        "internals": {
          "slide_type": "subslide"
        },
        "slide_helper": "slide_end",
        "id": "tQ-lpqSJDZXs"
      }
    },
    {
      "cell_type": "markdown",
      "source": [
        "Base `Julia` provides many basic containers for values:\n"
      ],
      "metadata": {
        "id": "78pUFsgFDZXt"
      }
    },
    {
      "cell_type": "markdown",
      "source": [
        "Vectors promote values to a common type\n"
      ],
      "metadata": {
        "id": "NcmSWhjsDZXt"
      }
    },
    {
      "outputs": [],
      "cell_type": "code",
      "source": [
        "[1, 1.0, 1//1]"
      ],
      "metadata": {
        "id": "cVpg3g0dDZXu"
      },
      "execution_count": null
    },
    {
      "cell_type": "markdown",
      "source": [
        "Tuples allow for heterogeneous containers (like a list in R)\n"
      ],
      "metadata": {
        "id": "sYjEfefQDZXw"
      }
    },
    {
      "outputs": [],
      "cell_type": "code",
      "source": [
        "(1, 1.0, 1//1)"
      ],
      "metadata": {
        "id": "nm5OGqcWDZXw"
      },
      "execution_count": null
    },
    {
      "cell_type": "markdown",
      "source": [
        "While in R, vectors are matrices, in `Julia` they are distinct, though both are special cases of the `Array{T, N}` type:\n"
      ],
      "metadata": {
        "id": "l41VvzjIDZXx"
      }
    },
    {
      "outputs": [],
      "cell_type": "code",
      "source": [
        "v = [1,2,3]"
      ],
      "metadata": {
        "id": "ZxUDn_wbDZXx"
      },
      "execution_count": null
    },
    {
      "outputs": [],
      "cell_type": "code",
      "source": [
        "typeof(v)"
      ],
      "metadata": {
        "id": "cUYsNQnTDZXy"
      },
      "execution_count": null
    },
    {
      "outputs": [],
      "cell_type": "code",
      "source": [
        "M = [1 2; 3 4]"
      ],
      "metadata": {
        "id": "K6CYwYjFDZXy"
      },
      "execution_count": null
    },
    {
      "outputs": [],
      "cell_type": "code",
      "source": [
        "typeof(M)"
      ],
      "metadata": {
        "id": "ARIY3EZ0DZXz"
      },
      "execution_count": null
    },
    {
      "cell_type": "markdown",
      "source": [
        "The matrix `M`, as defined above, is loaded row by row. We can create a row vector, mirroring `v`, but it is an array with 2 coordinates:\n"
      ],
      "metadata": {
        "id": "gab7NjRSDZX1"
      }
    },
    {
      "outputs": [],
      "cell_type": "code",
      "source": [
        "vr = [1 2 3]"
      ],
      "metadata": {
        "id": "WUPDOWhwDZX1"
      },
      "execution_count": null
    },
    {
      "outputs": [],
      "cell_type": "code",
      "source": [
        "typeof(vr)"
      ],
      "metadata": {
        "id": "d54XsEbUDZX4"
      },
      "execution_count": null
    },
    {
      "cell_type": "markdown",
      "source": [
        "Julia takes transposes seriously (i.e. `v'` is not `vr`):\n"
      ],
      "metadata": {
        "id": "6vylewdCDZX4"
      }
    },
    {
      "outputs": [],
      "cell_type": "code",
      "source": [
        "v'"
      ],
      "metadata": {
        "id": "DZh_5D5ADZX5"
      },
      "execution_count": null
    },
    {
      "cell_type": "markdown",
      "source": [
        "Associative arrays are implemented by dictionaries or named tuples:\n"
      ],
      "metadata": {
        "id": "4W0XbHHtDZX5"
      }
    },
    {
      "outputs": [],
      "cell_type": "code",
      "source": [
        "nt = (a=1, b=2, c=3)\n",
        "nt.a"
      ],
      "metadata": {
        "id": "HpfIW1_IDZX6"
      },
      "execution_count": null
    },
    {
      "outputs": [],
      "cell_type": "code",
      "source": [
        "dct = Dict(\"a\"=>1, \"b\"=>2, \"c\"=>3)\n",
        "dct[\"a\"]"
      ],
      "metadata": {
        "id": "LFFA0tC8DZYF"
      },
      "execution_count": null
    },
    {
      "cell_type": "markdown",
      "source": [
        "(The keys of a named tuple are symbols, for the dictionary they are strings above, but may be other types.)\n"
      ],
      "metadata": {
        "id": "3aB7SB_rDZYG"
      }
    },
    {
      "cell_type": "markdown",
      "source": [
        "In Julia it is very much possible for external packages to provide additional container types. We will use `DataFrame` and `NamedTable` in the following.\n"
      ],
      "metadata": {
        "id": "AJV7Wd2oDZYG"
      }
    },
    {
      "cell_type": "markdown",
      "source": [
        "### Functions\n"
      ],
      "metadata": {
        "internals": {
          "slide_type": "subslide"
        },
        "slide_helper": "slide_end",
        "id": "pAufBcxmDZYG"
      }
    },
    {
      "cell_type": "markdown",
      "source": [
        "There are different ways to define a function and different types of functions. These define two methods for a generic function `f`:\n"
      ],
      "metadata": {
        "id": "q2rb1aB4DZYH"
      }
    },
    {
      "outputs": [],
      "cell_type": "code",
      "source": [
        "f(x) = x^5 + x - 1"
      ],
      "metadata": {
        "id": "SB-yOyiGDZYH"
      },
      "execution_count": null
    },
    {
      "outputs": [],
      "cell_type": "code",
      "source": [
        "function f(x, y)\n",
        "   x + 2x*y + y^2\n",
        "end"
      ],
      "metadata": {
        "id": "9V3L2tXxDZYH"
      },
      "execution_count": null
    },
    {
      "cell_type": "markdown",
      "source": [
        "This defines an anonymous function which is then *assigned* to `g`:\n"
      ],
      "metadata": {
        "id": "3EACf2UFDZYI"
      }
    },
    {
      "outputs": [],
      "cell_type": "code",
      "source": [
        "g = x -> x^5 - x - 1"
      ],
      "metadata": {
        "id": "oagwexv7DZYI"
      },
      "execution_count": null
    },
    {
      "cell_type": "markdown",
      "source": [
        "Both types of functions are called in the conventional way:\n"
      ],
      "metadata": {
        "id": "A7X57a-VDZYI"
      }
    },
    {
      "outputs": [],
      "cell_type": "code",
      "source": [
        "f(1), g(1)"
      ],
      "metadata": {
        "id": "OCS9JnokDZYJ"
      },
      "execution_count": null
    },
    {
      "cell_type": "markdown",
      "source": [
        "But generic functions have dispatch determined by the signature. Here we see the number of arguments dictates which method is called:\n"
      ],
      "metadata": {
        "id": "0VhAtXYUDZYJ"
      }
    },
    {
      "outputs": [],
      "cell_type": "code",
      "source": [
        "f(1,2) # uses f(x,y) not a call to f(x), which would error"
      ],
      "metadata": {
        "id": "a5aS8W0dDZYJ"
      },
      "execution_count": null
    },
    {
      "cell_type": "markdown",
      "source": [
        "Dispatch on the type of an argument is possible too, and perhaps more common. Here are default methods for `log` restricted to an initial argument of type `Number`:\n"
      ],
      "metadata": {
        "id": "USBFgWWqDZYK"
      }
    },
    {
      "outputs": [],
      "cell_type": "code",
      "source": [
        "methods(log, (Number,))"
      ],
      "metadata": {
        "id": "_aqyifptDZYK"
      },
      "execution_count": null
    },
    {
      "cell_type": "markdown",
      "source": [
        "Packages and users can extend the `log` generic for other types, though it is *expected* that it be narrowed to types that they \"own.\"\n"
      ],
      "metadata": {
        "id": "Zj83M4CQDZYL"
      }
    },
    {
      "cell_type": "markdown",
      "source": [
        "---\n"
      ],
      "metadata": {
        "id": "YBCWLnhaDZYL"
      }
    },
    {
      "cell_type": "markdown",
      "source": [
        "Anonymous functions are useful with higher order programming. The above definition for `g` is just a binding of the name to the anonymous function. Bindings are dynamic:\n"
      ],
      "metadata": {
        "id": "PacKuaAJDZYL"
      }
    },
    {
      "outputs": [],
      "cell_type": "code",
      "source": [
        "g = 9.8"
      ],
      "metadata": {
        "id": "uo3jqUbIDZYM"
      },
      "execution_count": null
    },
    {
      "cell_type": "markdown",
      "source": [
        "The generic function adds to a (global) method table. The method table can be modified, but the binding can not:\n"
      ],
      "metadata": {
        "id": "4NqtWZijDZYM"
      }
    },
    {
      "outputs": [],
      "cell_type": "code",
      "source": [
        "f(x,y,z) = x^2 + y^2 + x^2"
      ],
      "metadata": {
        "id": "fAfGqR0rDZYN"
      },
      "execution_count": null
    },
    {
      "outputs": [],
      "cell_type": "code",
      "source": [
        "#| error: true\n",
        "f = 42"
      ],
      "metadata": {
        "id": "kLJNpx9NDZYN"
      },
      "execution_count": null
    },
    {
      "cell_type": "markdown",
      "source": [
        "Functions may have *positional* arguments (possibly with default values) and *keyword* ararguments (with default values)\n"
      ],
      "metadata": {
        "id": "VRnXEbFADZYN"
      }
    },
    {
      "outputs": [],
      "cell_type": "code",
      "source": [
        "h(a, b, c=3; d=4, e::Integer=5) = (a,b,c,d,e)\n",
        "@show h(1, 2)\n",
        "@show h(1, 2, 4)\n",
        "@show h(1, 2; d=6)  # ; or , are okay when calling h; positional first"
      ],
      "metadata": {
        "id": "ofGZUCpxDZYO"
      },
      "execution_count": null
    },
    {
      "cell_type": "markdown",
      "source": [
        "Function application is also available through the `|>` (pipe) operator:\n"
      ],
      "metadata": {
        "id": "JNs7_EVmDZYO"
      }
    },
    {
      "outputs": [],
      "cell_type": "code",
      "source": [
        "3 |> f  # calls f(x) = x^5 - x - 1 with a value of `3`"
      ],
      "metadata": {
        "id": "G3OMJpkDDZYO"
      },
      "execution_count": null
    },
    {
      "cell_type": "markdown",
      "source": [
        "The definition for this operator is just\n"
      ],
      "metadata": {
        "id": "bpyPYLKtDZYP"
      }
    },
    {
      "outputs": [],
      "cell_type": "code",
      "source": [
        "#| eval: false\n",
        "|>(x, f) = f(x)"
      ],
      "metadata": {
        "id": "h4oSOm5iDZYP"
      },
      "execution_count": null
    },
    {
      "cell_type": "markdown",
      "source": [
        "## The dot syntax\n"
      ],
      "metadata": {
        "internals": {
          "slide_type": "subslide",
          "slide_helper": "subslide_end"
        },
        "slide_helper": "slide_end",
        "id": "XtSMDhemDZYQ"
      }
    },
    {
      "cell_type": "markdown",
      "source": [
        "R is vectorized. Matlab is also, but needs a \"dot\" to disambiguate certain operations. Current `Julia` is not vectorized, but a \"dot\" is used to broadcast function calls over the arguments (perhaps of different sizes)\n"
      ],
      "metadata": {
        "id": "8RdUYj8wDZYQ"
      }
    },
    {
      "outputs": [],
      "cell_type": "code",
      "source": [
        "x = [1,2,3]\n",
        "f.(x)  # [f(1), f(2), f(3)] like `map(f, x)`"
      ],
      "metadata": {
        "id": "fMAvxkE4DZYQ"
      },
      "execution_count": null
    },
    {
      "outputs": [],
      "cell_type": "code",
      "source": [
        "a = [:a, :b]  # \"column vector\"\n",
        "b = [:c :d]   # row vector\n",
        "h(x,y) = (x,y)\n",
        "h.(a,b)"
      ],
      "metadata": {
        "id": "Yd5vTsiGDZYQ"
      },
      "execution_count": null
    },
    {
      "cell_type": "markdown",
      "source": [
        "## Iteration\n"
      ],
      "metadata": {
        "internals": {
          "slide_type": "subslide",
          "slide_helper": "subslide_end"
        },
        "slide_helper": "slide_end",
        "id": "I71kbw2wDZYR"
      }
    },
    {
      "cell_type": "markdown",
      "source": [
        "Basic iteration can be done using a for loop:\n"
      ],
      "metadata": {
        "id": "ghJLwosPDZYR"
      }
    },
    {
      "outputs": [],
      "cell_type": "code",
      "source": [
        "a, b = 1, 1\n",
        "for i in 1:3\n",
        "    a, b = b, a + b\n",
        "end\n",
        "a, b"
      ],
      "metadata": {
        "id": "RTtTmklADZYS"
      },
      "execution_count": null
    },
    {
      "cell_type": "markdown",
      "source": [
        "Many objects are iterable (as the range `1:3` above). There are several *helper* functions for iteration. Among others, these examples show 3 ways to iterate over a matrix (each element, each row, each column):\n"
      ],
      "metadata": {
        "id": "shQx1CDLDZYS"
      }
    },
    {
      "outputs": [],
      "cell_type": "code",
      "source": [
        "M = [1 2; 3 4]\n",
        "for r ∈ M # order of traversal down column then over row\n",
        "    @show r\n",
        "end"
      ],
      "metadata": {
        "id": "xnJ6X8N7DZYS"
      },
      "execution_count": null
    },
    {
      "outputs": [],
      "cell_type": "code",
      "source": [
        "for r ∈ eachrow(M)\n",
        "    @show r\n",
        "end"
      ],
      "metadata": {
        "id": "f1jhUQdLDZYU"
      },
      "execution_count": null
    },
    {
      "outputs": [],
      "cell_type": "code",
      "source": [
        "for r ∈ eachcol(M)\n",
        "    @show r\n",
        "end"
      ],
      "metadata": {
        "id": "ibPr4w6KDZYW"
      },
      "execution_count": null
    },
    {
      "cell_type": "markdown",
      "source": [
        "Basic iteration tasks can also be achieved with a comprehension:\n"
      ],
      "metadata": {
        "id": "V_Od1qv6DZYW"
      }
    },
    {
      "outputs": [],
      "cell_type": "code",
      "source": [
        "[2i + 4 for i in 1:3]"
      ],
      "metadata": {
        "id": "5NOnMrEKDZYX"
      },
      "execution_count": null
    },
    {
      "cell_type": "markdown",
      "source": [
        "Similar to map which takes a function rather than an expression:\n"
      ],
      "metadata": {
        "id": "MBVkkJNEDZYX"
      }
    },
    {
      "outputs": [],
      "cell_type": "code",
      "source": [
        "map(i -> 2i + 4, 1:3)"
      ],
      "metadata": {
        "id": "dd_QRI1bDZYY"
      },
      "execution_count": null
    },
    {
      "cell_type": "markdown",
      "source": [
        "Base `Julia` provides many other higher order functions and add-on packages even more.\n"
      ],
      "metadata": {
        "id": "fwEkbwZuDZYZ"
      }
    },
    {
      "cell_type": "markdown",
      "source": [
        "## A data wrangling example using DataFrames\n"
      ],
      "metadata": {
        "internals": {
          "slide_type": "subslide",
          "slide_helper": "subslide_end"
        },
        "slide_helper": "slide_end",
        "id": "i0FLF5wIDZYZ"
      }
    },
    {
      "cell_type": "markdown",
      "source": [
        "Base Julia is extended by add-on packages. The built-in package manager can install them.\n"
      ],
      "metadata": {
        "id": "-l-ROZm4DZYa"
      }
    },
    {
      "outputs": [],
      "cell_type": "code",
      "source": [
        "#| eval: false\n",
        "using Pkg\n",
        "Pkg.add([\"CSV\", \"DataFrames\"])"
      ],
      "metadata": {
        "id": "S3cW126NDZYa"
      },
      "execution_count": null
    },
    {
      "cell_type": "markdown",
      "source": [
        "Packages are included in a session via `using` (or `import`):\n"
      ],
      "metadata": {
        "id": "doQTLc2nDZYb"
      }
    },
    {
      "outputs": [],
      "cell_type": "code",
      "source": [
        "using CSV, DataFrames"
      ],
      "metadata": {
        "id": "LvZ8aPAFDZYc"
      },
      "execution_count": null
    },
    {
      "cell_type": "markdown",
      "source": [
        "The background for this data is a possible college, Euphoria State. Each semester student records are stored, in this example as CSV files. These records included many things, but in particular grade for each class by student. The scenario below is there are historic grades and new enrollment data in separate files.\n"
      ],
      "metadata": {
        "id": "47X5BJn3DZYc"
      }
    },
    {
      "cell_type": "markdown",
      "source": [
        "The `CSV` provides a package for parsing structured data into a tabular format.  Generally the data is in a file, here we read it in from a multi-line string and store the data as a `DataFrame` object:\n"
      ],
      "metadata": {
        "id": "cvddU-n7DZYd"
      }
    },
    {
      "outputs": [],
      "cell_type": "code",
      "source": [
        "s11_data = \"\"\"\n",
        "Column1,Term,Subject,Catalog,ID,Name,Session,Grade,Grade.In\n",
        "1,1149,ACC,114,812315,\"Abernathy,Alice\",1,A,A\n",
        "2,1149,MTH,123,812315,\"Abernathy,Alice\",1,C,C\n",
        "3,1152,ENG,132,812315,\"Abernathy,Alice\",1,A,A\n",
        "4,1152,ENG,211,812315,\"Abernathy,Alice\",1,B,B\n",
        "5,1169,MTH,231,889995,\"Ballew,Bob\",1,A,A\n",
        "6,1169,MTH,229,889995,\"Ballew,Bob\",1,A,A\n",
        "7,1172,ENG,111,889995,\"Ballew,Bob\",1,B,B\n",
        "8,1172,CSC,222,889995,\"Ballew,Bob\",1,A-,A-\n",
        "9,1179,CSC,222,889995,\"Ballew,Bob\",1,F,F\n",
        "10,1179,ENG,232,889995,\"Ballew,Bob\",1,A,A\n",
        "11,1182,PSY,100,889995,\"Ballew,Bob\",1,B+,B+\n",
        "12,1192,PSY,100,163486,\"Carol,Carol\",1,A,A\n",
        "13,1192,MTH,123,163486,\"Carol,Carol\",1,A,A\n",
        "14,1199,MTH,231,163486,\"Carol,Carol\",1,A,A\n",
        "15,1202,MTH,232,163486,\"Carol,Carol\",1,W,W\n",
        "\"\"\""
      ],
      "metadata": {
        "id": "Vi02pD6iDZYd"
      },
      "execution_count": null
    },
    {
      "outputs": [],
      "cell_type": "code",
      "source": [
        "s11 = CSV.read(IOBuffer(s11_data), DataFrame)"
      ],
      "metadata": {
        "id": "QUd5zgAIDZYe"
      },
      "execution_count": null
    },
    {
      "cell_type": "markdown",
      "source": [
        "Some things are non-essential: `Grade.In` is technical, `Column1` an artifact of writing to a CSV file, ...\n"
      ],
      "metadata": {
        "id": "RBigjVPxDZYe"
      }
    },
    {
      "cell_type": "markdown",
      "source": [
        "### Access patterns\n"
      ],
      "metadata": {
        "internals": {
          "slide_type": "subslide"
        },
        "slide_helper": "slide_end",
        "id": "KL5TMFrGDZYf"
      }
    },
    {
      "cell_type": "markdown",
      "source": [
        "Values in DataFrames can be accessed by index, column name, etc.\n"
      ],
      "metadata": {
        "id": "1hAQ4L6cDZYg"
      }
    },
    {
      "outputs": [],
      "cell_type": "code",
      "source": [
        "s11[2,5], s11[2, :ID], s11[2, \"ID\"], s11[2, r\"^I\"]"
      ],
      "metadata": {
        "id": "muHUPoBPDZYg"
      },
      "execution_count": null
    },
    {
      "cell_type": "markdown",
      "source": [
        "The last one prints differently, as the **column selector** could *possibly* match 0-1 or more columns, so a data frame is returned. The others match just a column, so the value is returned.\n"
      ],
      "metadata": {
        "id": "xflAiu-VDZYj"
      }
    },
    {
      "cell_type": "markdown",
      "source": [
        "---\n"
      ],
      "metadata": {
        "id": "AaA6lLPKDZYj"
      }
    },
    {
      "outputs": [],
      "cell_type": "code",
      "source": [
        "# 💻 What \"Term\" is recorded in the 5th row?"
      ],
      "metadata": {
        "id": "WZ7kvLU1DZYk"
      },
      "execution_count": null
    },
    {
      "cell_type": "markdown",
      "source": [
        "---\n"
      ],
      "metadata": {
        "id": "8ZgpWcZODZYl"
      }
    },
    {
      "cell_type": "markdown",
      "source": [
        "All rows (or all columns) are implied by a colon, `:`:\n"
      ],
      "metadata": {
        "id": "9xhHaofBDZYm"
      }
    },
    {
      "outputs": [],
      "cell_type": "code",
      "source": [
        "s = first(s11, 3)  # first 3 rows\n",
        "s.ID, s[:, 5], s[:, \"ID\"], s[:, :ID]"
      ],
      "metadata": {
        "id": "WAyF6DoPDZYm"
      },
      "execution_count": null
    },
    {
      "cell_type": "markdown",
      "source": [
        "The use of `:` above to reference all rows has an alternative:\n"
      ],
      "metadata": {
        "id": "Ocg1iA5rDZYn"
      }
    },
    {
      "outputs": [],
      "cell_type": "code",
      "source": [
        "s[!,5], s[!, :ID]"
      ],
      "metadata": {
        "id": "4W6rRDWZDZYo"
      },
      "execution_count": null
    },
    {
      "cell_type": "markdown",
      "source": [
        "The basic difference is that `:` makes a copy, whereas `!` makes a view. See this [blog post](https://bkamins.github.io/julialang/2022/10/28/indexing.html) for more detail.\n"
      ],
      "metadata": {
        "id": "UYy5SPInDZYo"
      }
    },
    {
      "cell_type": "markdown",
      "source": [
        "When assigning a value in a column, the use of `s.ID` is convenient, as it replaces the current column.\n"
      ],
      "metadata": {
        "id": "1dXFKMqEDZYp"
      }
    },
    {
      "cell_type": "markdown",
      "source": [
        "## Combining data frames\n"
      ],
      "metadata": {
        "internals": {
          "slide_type": "subslide",
          "slide_helper": "subslide_end"
        },
        "slide_helper": "slide_end",
        "id": "TJa-eJc-DZYq"
      }
    },
    {
      "cell_type": "markdown",
      "source": [
        "Next we define some mock new data for the current semester\n"
      ],
      "metadata": {
        "id": "jXARbNl_DZYq"
      }
    },
    {
      "outputs": [],
      "cell_type": "code",
      "source": [
        "f22_data = \"\"\"\n",
        "Term,Session,Career,Class Nbr,Section,Subject,Catalog,Component,ID,Name,Gender,Phone,Email,Grade,Grade In,Repeat,Instructor ID,Instructor Name,Day,Mtg Start,Mtg End,Add Dt,User,Grade Base\n",
        "1229,1,UGRD,36923,D001,MTH,105,LEC,163486,\"Carol,Carol\",F,555-1212,carol.carol@euphoria.edu,,,,24007235,Frank,M,10:10AM,12:05PM,8/17/22,23247055,GRD\n",
        "1229,1,UGRD,36923,D001,MTH,105,LEC,163486,\"Carol,Carol\",F,555-1212,carol.carol@euphoria.edu,,,,24007235,Frank,W,10:10AM,12:05PM,8/17/22,23247055,GRD\n",
        "1229,1,UGRD,34534,D001,ENG,110,LEC,163486,\"Carol,Carol\",F,555-1212,carol.carol@euphoria.edu,,,,43993434,Faythe,W,10:10:00AM,11:00AM,8/17/22,23247055,GRD\n",
        "1229,1,UGRD,43244,D011,PSY,100,LEC,185109,\"Brock,Erin\",U,555-2121,Brock.erin@euphoria.edu,,,,5435352,Grace,Th,2:30PM,4:20PM,,,\n",
        "1229,1,UGRD,36923,D001,MTH,105,LEC,185109,\"Brock,Erin\",U,555-2121,Brock.erin@euphoria.edu,,,,24007235,Frank,M,4:40PM,6:10PM,,,\n",
        "1229,1,UGRD,44332,D200,ENG,111,LEC,659056,\"Mallory,Yves\",M,555-2211,mallory.eve@euphoria.edu,,,,75544555,Mike,W,8:00AM,9:50AM,,,\n",
        "\"\"\""
      ],
      "metadata": {
        "id": "GjypShHaDZYr"
      },
      "execution_count": null
    },
    {
      "cell_type": "markdown",
      "source": [
        "This is read in as before:\n"
      ],
      "metadata": {
        "id": "JO6TEosqDZYr"
      }
    },
    {
      "outputs": [],
      "cell_type": "code",
      "source": [
        "f22 = CSV.read(IOBuffer(f22_data), DataFrame)"
      ],
      "metadata": {
        "id": "lERByNlODZYs"
      },
      "execution_count": null
    },
    {
      "cell_type": "markdown",
      "source": [
        "Over time the column names evolve. The old data has a minimal set, the new has more extensive repeated data:\n"
      ],
      "metadata": {
        "id": "Q8BLq99mDZYs"
      }
    },
    {
      "outputs": [],
      "cell_type": "code",
      "source": [
        "names(s11)"
      ],
      "metadata": {
        "id": "0IcZ8ov9DZYs"
      },
      "execution_count": null
    },
    {
      "outputs": [],
      "cell_type": "code",
      "source": [
        "names(f22)"
      ],
      "metadata": {
        "id": "5fWU_9e7DZYt"
      },
      "execution_count": null
    },
    {
      "cell_type": "markdown",
      "source": [
        "This finds common column names using a Unicode infix operator for `intersect`:\n"
      ],
      "metadata": {
        "id": "UpZkBseKDZYt"
      }
    },
    {
      "outputs": [],
      "cell_type": "code",
      "source": [
        "nms = names(f22) ∩ names(s11)"
      ],
      "metadata": {
        "id": "g_51MhVoDZYu"
      },
      "execution_count": null
    },
    {
      "cell_type": "markdown",
      "source": [
        "---\n"
      ],
      "metadata": {
        "id": "tbfjsYzFDZYu"
      }
    },
    {
      "outputs": [],
      "cell_type": "code",
      "source": [
        "# 💻 The nms vector is a valid column selector. What is the data frame f22 with only the names from `nms`?\n"
      ],
      "metadata": {
        "id": "xD59-tRXDZYu"
      },
      "execution_count": null
    },
    {
      "outputs": [],
      "cell_type": "code",
      "source": [
        "# 💻 Wrap your previous command within `unique`. What is the difference?\n"
      ],
      "metadata": {
        "id": "fYXJ808XDZYv"
      },
      "execution_count": null
    },
    {
      "cell_type": "markdown",
      "source": [
        "(The `f22` data is arranged to have replicated data for each day a class meets.)\n"
      ],
      "metadata": {
        "id": "-1SW2g15DZYv"
      }
    },
    {
      "cell_type": "markdown",
      "source": [
        "---\n"
      ],
      "metadata": {
        "id": "aAVyPMRjDZYw"
      }
    },
    {
      "cell_type": "markdown",
      "source": [
        "The `vcat` function combines objects vertically (there is also `hcat` and `hvcat`).\n"
      ],
      "metadata": {
        "id": "YqnWHgeLDZYw"
      }
    },
    {
      "outputs": [],
      "cell_type": "code",
      "source": [
        "studs = vcat(s11[:,nms], unique(f22[:,nms]))"
      ],
      "metadata": {
        "id": "Zrg1_6tLDZYx"
      },
      "execution_count": null
    },
    {
      "cell_type": "markdown",
      "source": [
        "DataFrames has much functionality for other types of data joins\n"
      ],
      "metadata": {
        "id": "Xeked1lqDZYx"
      }
    },
    {
      "cell_type": "markdown",
      "source": [
        "## Split-apply-combine\n"
      ],
      "metadata": {
        "internals": {
          "slide_type": "subslide",
          "slide_helper": "subslide_end"
        },
        "slide_helper": "slide_end",
        "id": "kvjQQ8dkDZYx"
      }
    },
    {
      "cell_type": "markdown",
      "source": [
        "The [split-apply-combine](https://vita.had.co.nz/papers/plyr.pdf) strategy is often used, and here we see `DataFrames` supports it fairly naturally.\n"
      ],
      "metadata": {
        "id": "G96n--cXDZYy"
      }
    },
    {
      "cell_type": "markdown",
      "source": [
        "For this data, we want to create a new data structure for each student:\n"
      ],
      "metadata": {
        "id": "Ccjcxn3xDZYy"
      }
    },
    {
      "cell_type": "markdown",
      "source": [
        "containing their 1) first semester, 2) their last semester, and 3) their gpa.\n"
      ],
      "metadata": {
        "id": "KvyBSlD2DZYz"
      }
    },
    {
      "cell_type": "markdown",
      "source": [
        "The first and last semester is conveniently returned by `extrema` when applied to `Term`, given the manner in which the term is coded.\n"
      ],
      "metadata": {
        "id": "kIqp_obCDZYz"
      }
    },
    {
      "cell_type": "markdown",
      "source": [
        "---\n"
      ],
      "metadata": {
        "id": "3mJxfpG9DZY0"
      }
    },
    {
      "outputs": [],
      "cell_type": "code",
      "source": [
        "# 💻 What does extrema find for studs.Term?"
      ],
      "metadata": {
        "id": "eB5GRCpHDZY2"
      },
      "execution_count": null
    },
    {
      "cell_type": "markdown",
      "source": [
        "---\n"
      ],
      "metadata": {
        "id": "NUzUyQsPDZY2"
      }
    },
    {
      "cell_type": "markdown",
      "source": [
        "The `gpa` requires turning letter grades into numbers. Here is a simple way:\n"
      ],
      "metadata": {
        "id": "R4Fndhm1DZY3"
      }
    },
    {
      "outputs": [],
      "cell_type": "code",
      "source": [
        "function grade_to_number(x)\n",
        "\tismissing(x) && return x\n",
        "    x == \"A\"  ? 4.0 :\n",
        "\tx == \"A-\" ? 3.7 :\n",
        "    x == \"B+\" ? 3.3 :\n",
        "\tx == \"B\"  ? 3.0 :\n",
        "    x == \"B-\" ? 2.7 :\n",
        "    x == \"C+\" ? 2.3 :\n",
        "\tx == \"C\"  ? 2.0 :\n",
        "    x == \"D\"  ? 1.0 :\n",
        "\tx == \"F\"  ? 0.0 : missing\n",
        "end"
      ],
      "metadata": {
        "id": "bv0JgEkPDZY4"
      },
      "execution_count": null
    },
    {
      "cell_type": "markdown",
      "source": [
        "The `gpa`  would just be done by applying `mean` (from the `Statistics` package).\n"
      ],
      "metadata": {
        "id": "XppBjBntDZY4"
      }
    },
    {
      "outputs": [],
      "cell_type": "code",
      "source": [
        "using Statistics  # base Statistics module is very minimal, but has `mean`"
      ],
      "metadata": {
        "id": "FAcG9S1lDZY5"
      },
      "execution_count": null
    },
    {
      "cell_type": "markdown",
      "source": [
        "---\n"
      ],
      "metadata": {
        "id": "fiDnjavKDZY5"
      }
    },
    {
      "outputs": [],
      "cell_type": "code",
      "source": [
        "# 💻  what goes wrong here? A one character fix is?\n",
        "xs = grade_to_number(studs.Grade)"
      ],
      "metadata": {
        "id": "CdXciFdkDZY6"
      },
      "execution_count": null
    },
    {
      "outputs": [],
      "cell_type": "code",
      "source": [
        "# 💻 After ensuring xs is a vector, try finding the mean. What value do you get?"
      ],
      "metadata": {
        "id": "y_ZkME4FDZY6"
      },
      "execution_count": null
    },
    {
      "cell_type": "markdown",
      "source": [
        "---\n"
      ],
      "metadata": {
        "id": "o1vTZcxfDZY7"
      }
    },
    {
      "cell_type": "markdown",
      "source": [
        "For `mean(xs)` we have to be a bit careful with\n"
      ],
      "metadata": {
        "id": "T_iyxZ1KDZY7"
      }
    },
    {
      "cell_type": "markdown",
      "source": [
        "  * `missing` values (`ismissing`, `skipmissing`)\n",
        "  * and empty iterators (`isempty`)\n"
      ],
      "metadata": {
        "id": "4bqHRsadDZY8"
      }
    },
    {
      "cell_type": "markdown",
      "source": [
        "with this data:\n"
      ],
      "metadata": {
        "id": "1ZiJ2j5SDZY8"
      }
    },
    {
      "outputs": [],
      "cell_type": "code",
      "source": [
        "\n",
        "function gpa(xs)\n",
        "    isempty(xs) && return missing\n",
        "    ys = grade_to_number.(xs)\n",
        "    all(ismissing.(ys)) && return missing\n",
        "    ys |> skipmissing |> mean\n",
        "end"
      ],
      "metadata": {
        "id": "1BWLIR1pDZY9"
      },
      "execution_count": null
    },
    {
      "cell_type": "markdown",
      "source": [
        "The function we apply to the dataframe for each unique student would be:\n"
      ],
      "metadata": {
        "id": "MJHBCrIlDZY9"
      }
    },
    {
      "outputs": [],
      "cell_type": "code",
      "source": [
        "function summarize_student(u)\n",
        "    m,n = size(u)\n",
        "    fterm, lterm = extrema(u.Term)\n",
        "    (F=fterm, L=lterm, N = m, gpa = gpa(u.Grade))\n",
        "end"
      ],
      "metadata": {
        "id": "ZS7AUFfPDZY9"
      },
      "execution_count": null
    },
    {
      "cell_type": "markdown",
      "source": [
        "---\n"
      ],
      "metadata": {
        "id": "hJW60oIqDZY-"
      }
    },
    {
      "outputs": [],
      "cell_type": "code",
      "source": [
        "# 💻 Apply `summarize_student` to the data frame for Alice created by subsetting the rows:\n",
        "df = studs[studs.Name .== \"Abernathy,Alice\",:]"
      ],
      "metadata": {
        "id": "awxAjRDSDZY-"
      },
      "execution_count": null
    },
    {
      "cell_type": "markdown",
      "source": [
        "---\n"
      ],
      "metadata": {
        "id": "NZ2cntLZDZY-"
      }
    },
    {
      "cell_type": "markdown",
      "source": [
        "We can use the `groupby` function to split the data frame on an ID, call the above on each student, and then combine into a data frame.\n"
      ],
      "metadata": {
        "id": "a6ileGZTDZY-"
      }
    },
    {
      "cell_type": "markdown",
      "source": [
        "The `groupby` function splits the data:\n"
      ],
      "metadata": {
        "id": "nuE9lb6LDZY_"
      }
    },
    {
      "outputs": [],
      "cell_type": "code",
      "source": [
        "students = groupby(studs, :ID)"
      ],
      "metadata": {
        "id": "cWkhIodeDZY_"
      },
      "execution_count": null
    },
    {
      "cell_type": "markdown",
      "source": [
        "---\n"
      ],
      "metadata": {
        "id": "VzIk1Y_9DZZA"
      }
    },
    {
      "outputs": [],
      "cell_type": "code",
      "source": [
        "# 💻 Group the data by the student name"
      ],
      "metadata": {
        "id": "kvjor_C3DZZA"
      },
      "execution_count": null
    },
    {
      "cell_type": "markdown",
      "source": [
        "---\n"
      ],
      "metadata": {
        "id": "t_PjaN-ZDZZB"
      }
    },
    {
      "cell_type": "markdown",
      "source": [
        "The `GroupedDataFrame` object can be iterated over (but not broadcast over). Here we apply our function to each entry:\n"
      ],
      "metadata": {
        "id": "Amh40VaZDZZH"
      }
    },
    {
      "outputs": [],
      "cell_type": "code",
      "source": [
        "student_summaries = [summarize_student(student) for student ∈ students]"
      ],
      "metadata": {
        "id": "ShPRpY7wDZZI"
      },
      "execution_count": null
    },
    {
      "cell_type": "markdown",
      "source": [
        "The `DataFrame` constructor can consume an array of named tuples that is produced by the comprehension, treating each tuple as a new row:\n"
      ],
      "metadata": {
        "id": "XTNdsIhXDZZI"
      }
    },
    {
      "outputs": [],
      "cell_type": "code",
      "source": [
        "d = DataFrame(student_summaries)"
      ],
      "metadata": {
        "id": "53jE1G-YDZZJ"
      },
      "execution_count": null
    },
    {
      "cell_type": "markdown",
      "source": [
        "### DataFrames mini language\n"
      ],
      "metadata": {
        "internals": {
          "slide_type": "subslide"
        },
        "slide_helper": "slide_end",
        "id": "p7G0oq30DZZJ"
      }
    },
    {
      "cell_type": "markdown",
      "source": [
        "DataFrames provides a minilanguage to support the actions:\n"
      ],
      "metadata": {
        "id": "Oc47cRSfDZZK"
      }
    },
    {
      "cell_type": "markdown",
      "source": [
        "  * `combine`: create a new data frame with columns coming from transformations\n",
        "  * `select`: create a new data frame with same number of rows (cases) with only the specified columns\n",
        "  * `transform`: create a new data frame, as `select` with the same number of cases, but keeps original columns and any additional ones\n"
      ],
      "metadata": {
        "id": "1l9qxoW_DZZL"
      }
    },
    {
      "cell_type": "markdown",
      "source": [
        "Transformations apply a function to source rows and store the result(s) in destination rows. The `=>` pair notation is used to separate. The pattern is\n"
      ],
      "metadata": {
        "id": "AqaHV119DZZL"
      }
    },
    {
      "outputs": [],
      "cell_type": "code",
      "source": [
        "# source column(s) specifier => function => destination column(s) specifier"
      ],
      "metadata": {
        "id": "PlwXmGI4DZZM"
      },
      "execution_count": null
    },
    {
      "cell_type": "markdown",
      "source": [
        "The middle one is a function, which may be an anonymous function, in which case parentheses may be needed due to operator precedence.)\n"
      ],
      "metadata": {
        "id": "_Iq3HBOZDZZN"
      }
    },
    {
      "cell_type": "markdown",
      "source": [
        "For example, in the below we will see `:Term => minimum => :F` which will apply the `minimum` function to each `Term` value in a data frame. The `minimum` function is a *reduction* returning a scalar, this will be stored in the computed data frame with variable name `F`. Similarly we have `:L` and `:N` computed:\n"
      ],
      "metadata": {
        "id": "81xZ_b81DZZN"
      }
    },
    {
      "outputs": [],
      "cell_type": "code",
      "source": [
        "students = groupby(studs, :ID)\n",
        "combine(students,\n",
        "        :Term => minimum => :F,\n",
        "        :Term => maximum => :L,\n",
        "        :Term => length => :N,\n",
        "        :Grade => gpa => :gpa)"
      ],
      "metadata": {
        "id": "Mf_w296ZDZZO"
      },
      "execution_count": null
    },
    {
      "cell_type": "markdown",
      "source": [
        "---\n"
      ],
      "metadata": {
        "id": "BTKZIZqBDZZO"
      }
    },
    {
      "outputs": [],
      "cell_type": "code",
      "source": [
        "# 💻 group studs by :Term then apply `gpa`. Which term has the lowest gpa in the mock data set?"
      ],
      "metadata": {
        "id": "BG1fBJk1DZZQ"
      },
      "execution_count": null
    },
    {
      "cell_type": "markdown",
      "source": [
        "---\n"
      ],
      "metadata": {
        "id": "aod3PteeDZZQ"
      }
    },
    {
      "cell_type": "markdown",
      "source": [
        "## Transforming data examples\n"
      ],
      "metadata": {
        "internals": {
          "slide_type": "subslide",
          "slide_helper": "subslide_end"
        },
        "slide_helper": "slide_end",
        "id": "FJWiJoTyDZZR"
      }
    },
    {
      "cell_type": "markdown",
      "source": [
        "We continue with a larger set of randomly generated mock data. Here we read the data from an internet source, so first the built-in `download` function is called to download the file,\n"
      ],
      "metadata": {
        "id": "yXpRXR7pDZZU"
      }
    },
    {
      "outputs": [],
      "cell_type": "code",
      "source": [
        "url = \"https://raw.githubusercontent.com/jverzani/DataCampPresentation.jl/main/d.csv\"\n",
        "d = CSV.read(download(url), DataFrame)"
      ],
      "metadata": {
        "id": "cfVtqp07DZZV"
      },
      "execution_count": null
    },
    {
      "cell_type": "markdown",
      "source": [
        "### Filtering\n"
      ],
      "metadata": {
        "internals": {
          "slide_type": "subslide"
        },
        "slide_helper": "slide_end",
        "id": "xYZ_m4sODZZV"
      }
    },
    {
      "cell_type": "markdown",
      "source": [
        "We want to consider the more recent students only, so we filter out the students who started earlier:\n"
      ],
      "metadata": {
        "id": "AgugtdJSDZZW"
      }
    },
    {
      "outputs": [],
      "cell_type": "code",
      "source": [
        "d = filter(r -> r.F >= 1159, d)"
      ],
      "metadata": {
        "id": "gEKLuFH4DZZW"
      },
      "execution_count": null
    },
    {
      "cell_type": "markdown",
      "source": [
        "  * Somewhat idiosyncratically `filter` for a data frame filters over rows. (a preferred direction isn't obvious)\n",
        "  * the call above is a bit wasteful, as we can filter in place with `filter!`. (The above allocates a new data frame)\n",
        "  * As an alternative to `filter` there is `subset` (and `subset!`) which could also be used. E.g.:\n"
      ],
      "metadata": {
        "id": "n0kx06FEDZZX"
      }
    },
    {
      "outputs": [],
      "cell_type": "code",
      "source": [
        "subset(d, :F => ByRow(>=(1209)))"
      ],
      "metadata": {
        "id": "zL-KKfv_DZZX"
      },
      "execution_count": null
    },
    {
      "cell_type": "markdown",
      "source": [
        "As another alternate, the mini language can also be used with filter\n"
      ],
      "metadata": {
        "id": "SNyCYvWVDZZY"
      }
    },
    {
      "outputs": [],
      "cell_type": "code",
      "source": [
        "g1209(x) = x >= 1209\n",
        "filter(:F => g1209, d)"
      ],
      "metadata": {
        "id": "Glt794ZaDZZZ"
      },
      "execution_count": null
    },
    {
      "cell_type": "markdown",
      "source": [
        "As an covenient alternate, we also have:\n"
      ],
      "metadata": {
        "id": "AWjJ7YGxDZZZ"
      }
    },
    {
      "outputs": [],
      "cell_type": "code",
      "source": [
        "filter(:F => >=(1209), d)"
      ],
      "metadata": {
        "id": "ABWR9SuyDZZa"
      },
      "execution_count": null
    },
    {
      "cell_type": "markdown",
      "source": [
        "To explain a bit:\n"
      ],
      "metadata": {
        "id": "-HBpFElcDZZb"
      }
    },
    {
      "cell_type": "markdown",
      "source": [
        "  * `>=(1209)` is a curried from of `>=(x,y)` with `y=1209` – there are a few such operators for convenience with such tasks;\n",
        "  * `subset` needs `ByRow` (to ensure the function consumes an element in the column, not the entire column), whereas `filter` does not, as `filter` returns rows that match the function, so pass rows to the function, whereas, `subset` passes the whole column.)\n",
        "  * The `r -> r.F == 1209` anonymous function is probably clearer...\n"
      ],
      "metadata": {
        "id": "LUhGJc3_DZZb"
      }
    },
    {
      "cell_type": "markdown",
      "source": [
        "---\n"
      ],
      "metadata": {
        "id": "6wr636evDZZc"
      }
    },
    {
      "outputs": [],
      "cell_type": "code",
      "source": [
        "# 💻 Using `filter` extract those students whose first term was `1229`. How many were there?"
      ],
      "metadata": {
        "id": "PlArxHLoDZZd"
      },
      "execution_count": null
    },
    {
      "outputs": [],
      "cell_type": "code",
      "source": [
        "# 💻 Can you answer the same question for all terms using `combine`, say?"
      ],
      "metadata": {
        "id": "_gOKIHltDZZd"
      },
      "execution_count": null
    },
    {
      "cell_type": "markdown",
      "source": [
        "---\n"
      ],
      "metadata": {
        "id": "EOPlgaSvDZZe"
      }
    },
    {
      "cell_type": "markdown",
      "source": [
        "### Creating new columns\n"
      ],
      "metadata": {
        "internals": {
          "slide_type": "subslide"
        },
        "slide_helper": "slide_end",
        "id": "t8dpxFk0DZZe"
      }
    },
    {
      "cell_type": "markdown",
      "source": [
        "We want to compute how many semesters a student stayed. The data is computable as we have the first and last (`.F` and `.L`) semesters recorded. However, the semester uses an idiosyncratic storage (a leading `1`, two digit year, semester with spring=`1`, fall=`9`.)\n"
      ],
      "metadata": {
        "id": "RrSVnNm7DZZf"
      }
    },
    {
      "cell_type": "markdown",
      "source": [
        "Here we decode:\n"
      ],
      "metadata": {
        "id": "oa9p6U50DZZg"
      }
    },
    {
      "outputs": [],
      "cell_type": "code",
      "source": [
        "function decode_semester(x)\n",
        "    yr  = div(x - 1000, 10)   # 1229 -> 22\n",
        "    val = rem(x, 10) == 2 ? 0.0 : 0.5 # 1229 -> 22 + 0.5; 1222 -> 22 + 0.0\n",
        "    yr + val\n",
        "end"
      ],
      "metadata": {
        "id": "xGI0qliJDZZg"
      },
      "execution_count": null
    },
    {
      "cell_type": "markdown",
      "source": [
        "We want to combine the `:F` and `:L` columns and make a new column.  For use, this becomes\n"
      ],
      "metadata": {
        "id": "bdYWA4qIDZZj"
      }
    },
    {
      "outputs": [],
      "cell_type": "code",
      "source": [
        "Δ(f,l) = decode_semester(l) - decode_semester(f) + 1/2\n",
        "transform!(d, [:F, :L] => ByRow(Δ) => :semesters)"
      ],
      "metadata": {
        "id": "qaMv-ztEDZZk"
      },
      "execution_count": null
    },
    {
      "cell_type": "markdown",
      "source": [
        "The subtlety above is the `ByRow` which is needed to broadcast the values here. In this example, we could have written `Δ` to broadcast with either:\n"
      ],
      "metadata": {
        "id": "b2M80I9lDZZk"
      }
    },
    {
      "outputs": [],
      "cell_type": "code",
      "source": [
        "Δ(f,l) = decode_semester.(l) - decode_semester.(f) .+ 1/2"
      ],
      "metadata": {
        "id": "-nSiqfHVDZZl"
      },
      "execution_count": null
    },
    {
      "cell_type": "markdown",
      "source": [
        "Or using the `@.` **macro**:\n"
      ],
      "metadata": {
        "id": "S3YjajG5DZZm"
      }
    },
    {
      "outputs": [],
      "cell_type": "code",
      "source": [
        "@. Δ(f,l) = decode_semester(l) - decode_semester(f) + 1/2"
      ],
      "metadata": {
        "id": "wKJ9hCw4DZZm"
      },
      "execution_count": null
    },
    {
      "cell_type": "markdown",
      "source": [
        "Then we could have computed with:\n"
      ],
      "metadata": {
        "id": "0Q6d4KHfDZZo"
      }
    },
    {
      "outputs": [],
      "cell_type": "code",
      "source": [
        "d = transform(d, [:F, :L] => Δ => :alt_semesters)"
      ],
      "metadata": {
        "id": "T4Rbfa4nDZZo"
      },
      "execution_count": null
    },
    {
      "cell_type": "markdown",
      "source": [
        "---\n"
      ],
      "metadata": {
        "id": "Sx1UwF7NDZZp"
      }
    },
    {
      "outputs": [],
      "cell_type": "code",
      "source": [
        "# 💻 Can you compute the average number of classes taken per semester for each student?"
      ],
      "metadata": {
        "id": "65ezDgi0DZZp"
      },
      "execution_count": null
    },
    {
      "cell_type": "markdown",
      "source": [
        "---\n"
      ],
      "metadata": {
        "id": "8HoEfWsRDZZq"
      }
    },
    {
      "cell_type": "markdown",
      "source": [
        "### Counting\n"
      ],
      "metadata": {
        "internals": {
          "slide_type": "subslide"
        },
        "slide_helper": "slide_end",
        "id": "YJvv5RejDZZq"
      }
    },
    {
      "cell_type": "markdown",
      "source": [
        "The number of semesters a student stays is of interest. At Euphoria State there are many good  reasons to transfer, so the simple model of 8 semesters and out is not typical.\n"
      ],
      "metadata": {
        "id": "fGUMOQikDZZr"
      }
    },
    {
      "cell_type": "markdown",
      "source": [
        "A simple tally could be done as follows:\n"
      ],
      "metadata": {
        "id": "7awWMoK0DZZs"
      }
    },
    {
      "outputs": [],
      "cell_type": "code",
      "source": [
        "sems = unique(d.semesters)\n",
        "cnt = Dict(s => 0 for s ∈ sems)  # initialize with a generator\n",
        "for r ∈ eachrow(d)\n",
        "    cnt[r.semesters] += 1\n",
        "end\n",
        "cnt"
      ],
      "metadata": {
        "id": "oHSOd4XrDZZt"
      },
      "execution_count": null
    },
    {
      "cell_type": "markdown",
      "source": [
        "Since `for` loops are fast in `Julia` this is actually performant, but the dictionary used for counting is not that convenient.\n"
      ],
      "metadata": {
        "id": "RJXWtB2oDZZu"
      }
    },
    {
      "cell_type": "markdown",
      "source": [
        "This counting can be achieved with `combine` followed by sorting:\n"
      ],
      "metadata": {
        "id": "5iq-h9RUDZZu"
      }
    },
    {
      "outputs": [],
      "cell_type": "code",
      "source": [
        "df = combine(groupby(d, :semesters), nrow => :N)\n",
        "sort(df, :semesters)"
      ],
      "metadata": {
        "id": "X3T_Us6-DZZv"
      },
      "execution_count": null
    },
    {
      "cell_type": "markdown",
      "source": [
        "---\n"
      ],
      "metadata": {
        "id": "rGAs3WGADZZw"
      }
    },
    {
      "outputs": [],
      "cell_type": "code",
      "source": [
        "# 💻 What is the distribution of the number of courses a student took while at Euphoria State?\n",
        "# use the argument `rev=true` to sort to order the values. What is the most common number of courses?"
      ],
      "metadata": {
        "id": "TKtULnL_DZZw"
      },
      "execution_count": null
    },
    {
      "outputs": [],
      "cell_type": "code",
      "source": [
        "# 💻 what is the distribution of the mean number of courses taken by first term (:F)?\n",
        "# After sorting, which term had the most?"
      ],
      "metadata": {
        "id": "vynPusV-DZZx"
      },
      "execution_count": null
    },
    {
      "cell_type": "markdown",
      "source": [
        "---\n"
      ],
      "metadata": {
        "id": "IHGHEny5DZZy"
      }
    },
    {
      "cell_type": "markdown",
      "source": [
        "## Contigency tables\n"
      ],
      "metadata": {
        "internals": {
          "slide_type": "subslide",
          "slide_helper": "subslide_end"
        },
        "slide_helper": "slide_end",
        "id": "Ro7axdf1DZZz"
      }
    },
    {
      "cell_type": "markdown",
      "source": [
        "We are curious how the number of semesters has varied over the years and want a contingency table.\n"
      ],
      "metadata": {
        "id": "AZ61h2d2DZZz"
      }
    },
    {
      "cell_type": "markdown",
      "source": [
        "Grouping by more than one column is possible, as this shows:\n"
      ],
      "metadata": {
        "id": "Q-_jUQaJDZZ0"
      }
    },
    {
      "outputs": [],
      "cell_type": "code",
      "source": [
        "df = combine(groupby(d, [:semesters, :F]), nrow => :N)\n",
        "sort(df, [:F, :semesters])"
      ],
      "metadata": {
        "id": "WxEv7fCHDZZ0"
      },
      "execution_count": null
    },
    {
      "cell_type": "markdown",
      "source": [
        "But a more familiar display is in the form of a contingency table. For that we reach for a package that is useful for contingency tables:\n"
      ],
      "metadata": {
        "id": "nbWMWGrSDZZ0"
      }
    },
    {
      "outputs": [],
      "cell_type": "code",
      "source": [
        "# Pkg.add(\"FreqTables\")\n",
        "import FreqTables: freqtable"
      ],
      "metadata": {
        "id": "vHYdQ0AHDZZ1"
      },
      "execution_count": null
    },
    {
      "cell_type": "markdown",
      "source": [
        "The `freqtable` function is used like `R`'s `table` function (not `xtabs`, with its modeling formula interface):\n"
      ],
      "metadata": {
        "id": "Is2gegE0DZZ1"
      }
    },
    {
      "outputs": [],
      "cell_type": "code",
      "source": [
        "m = freqtable(d.F, d.semesters)"
      ],
      "metadata": {
        "id": "lOUeP0_ADZZ1"
      },
      "execution_count": null
    },
    {
      "cell_type": "markdown",
      "source": [
        "Students on the lower diagonal are still enrolled, other students have left.\n"
      ],
      "metadata": {
        "id": "HJtEEHk6DZZ2"
      }
    },
    {
      "cell_type": "markdown",
      "source": [
        "---\n"
      ],
      "metadata": {
        "id": "_gXYKdTNDZZ2"
      }
    },
    {
      "outputs": [],
      "cell_type": "code",
      "source": [
        "# 💻 Make a contingency table of :F versus :L for d. Is the shape expected?"
      ],
      "metadata": {
        "id": "HdxxfqzCDZZ2"
      },
      "execution_count": null
    },
    {
      "cell_type": "markdown",
      "source": [
        "---\n"
      ],
      "metadata": {
        "id": "meMiOVLVDZZ3"
      }
    },
    {
      "cell_type": "markdown",
      "source": [
        "There are big variations between students who started in the fall versus the spring (more students start in the fall semester at Euphoria State). Here we select fall cohorts:\n"
      ],
      "metadata": {
        "id": "GNGJ6cc6DZZ4"
      }
    },
    {
      "outputs": [],
      "cell_type": "code",
      "source": [
        "d1 = filter(r -> r.F % 10 == 9, d)\n",
        "m = freqtable(d1.F, d1.semesters)"
      ],
      "metadata": {
        "id": "Hl-gRF6nDZZ4"
      },
      "execution_count": null
    },
    {
      "cell_type": "markdown",
      "source": [
        "---\n"
      ],
      "metadata": {
        "id": "dTrISP3sDZZ5"
      }
    },
    {
      "outputs": [],
      "cell_type": "code",
      "source": [
        "# 💻 Repeat the above, finding a contingency table for those starting in the spring semester (Term ends in 2)"
      ],
      "metadata": {
        "id": "NNc5OUmXDZZ6"
      },
      "execution_count": null
    },
    {
      "cell_type": "markdown",
      "source": [
        "---\n"
      ],
      "metadata": {
        "id": "OKKufwz7DZZ6"
      }
    },
    {
      "cell_type": "markdown",
      "source": [
        "This pattern of repeated data transformation is often done with a piping syntax, which can feel more natural. Here is one way to do so:\n"
      ],
      "metadata": {
        "id": "_MznJyR_DZZ7"
      }
    },
    {
      "outputs": [],
      "cell_type": "code",
      "source": [
        "d |>\n",
        "    x -> filter(r -> r.F % 10 == 9, x) |>\n",
        "    x -> freqtable(x.F, x.semesters)"
      ],
      "metadata": {
        "id": "AK_rqjYUDZZ7"
      },
      "execution_count": null
    },
    {
      "cell_type": "markdown",
      "source": [
        "The anonymous functions are easy to write, but difficult to parse. Plus they add some boilerplate that would be nice to remove.\n"
      ],
      "metadata": {
        "id": "ARAf0bKdDZZ8"
      }
    },
    {
      "cell_type": "markdown",
      "source": [
        "In `Julia` there are **too** many solutions to this through add-on packages. One is to create a placeholder for the previous value so it can thread through the other might be to create simplified syntax for anonymous functions. We use the `Chain` package and `@chain` macro for the former, the `Underscores` package can do the latter (there are also related `Pipe`, `DataPipes`, `Lazy`, ... packages).\n"
      ],
      "metadata": {
        "id": "PNU-zTHCDZZ8"
      }
    },
    {
      "cell_type": "markdown",
      "source": [
        "We will use `Chain`\n"
      ],
      "metadata": {
        "id": "5Q54gLrVDZZ9"
      }
    },
    {
      "outputs": [],
      "cell_type": "code",
      "source": [
        "#Pkg.add(\"Chain\")\n",
        "using Chain"
      ],
      "metadata": {
        "id": "h-vHYO2wDZZ9"
      },
      "execution_count": null
    },
    {
      "cell_type": "markdown",
      "source": [
        "With `Chain` we use two simple rules:\n"
      ],
      "metadata": {
        "id": "mWKUMZ3gDZZ-"
      }
    },
    {
      "cell_type": "markdown",
      "source": [
        "  * we can use an underscore, `_`, to specify where the passed along value should fit into the next function call\n",
        "  * if no `_` is used, it is passed to the first position.\n"
      ],
      "metadata": {
        "id": "nhuTxrXGDZZ_"
      }
    },
    {
      "cell_type": "markdown",
      "source": [
        "Also with `Chain` the piping notation is implicit through a new line.\n"
      ],
      "metadata": {
        "id": "nnb8oacDDZZ_"
      }
    },
    {
      "cell_type": "markdown",
      "source": [
        "The above becomes:\n"
      ],
      "metadata": {
        "id": "wAXVWRSbDZaA"
      }
    },
    {
      "outputs": [],
      "cell_type": "code",
      "source": [
        "@chain d begin\n",
        "    filter(r -> r.F % 10 == 9, _)\n",
        "    freqtable(_.F, _.semesters)\n",
        "end"
      ],
      "metadata": {
        "id": "3HcOXOCKDZaA"
      },
      "execution_count": null
    },
    {
      "cell_type": "markdown",
      "source": [
        "(The `Underscores.jl` package could avoid the remaining anonymous function.) Here we define a *closure* to create a function that fixes the semester:\n"
      ],
      "metadata": {
        "id": "3TeOd7AxDZaA"
      }
    },
    {
      "outputs": [],
      "cell_type": "code",
      "source": [
        "function start_semester(x=:fall)\n",
        "    s = x == :spring ? 2 : 9\n",
        "    r -> r.F % 10 == s\n",
        "end"
      ],
      "metadata": {
        "id": "EpT6jBdxDZaB"
      },
      "execution_count": null
    },
    {
      "cell_type": "markdown",
      "source": [
        "Then we have the above can be:\n"
      ],
      "metadata": {
        "id": "QjLa2GHiDZaB"
      }
    },
    {
      "outputs": [],
      "cell_type": "code",
      "source": [
        "@chain d begin\n",
        "    filter(start_semester(:fall), _)\n",
        "    freqtable(_.F, _.semesters)\n",
        "end"
      ],
      "metadata": {
        "id": "qj_thsN9DZaC"
      },
      "execution_count": null
    },
    {
      "cell_type": "markdown",
      "source": [
        "---\n"
      ],
      "metadata": {
        "id": "4-lfrA3tDZaC"
      }
    },
    {
      "outputs": [],
      "cell_type": "code",
      "source": [
        "# 💻 Can you filter by fall semester; then filter by :F being 1199 or greater; then make a table of first semster by number of courses?"
      ],
      "metadata": {
        "id": "ye4FRhFaDZaC"
      },
      "execution_count": null
    },
    {
      "outputs": [],
      "cell_type": "code",
      "source": [
        "# 💻 Can you filter by fall semester; then filter by :gpa being 3.0 or greater; then make a table of first semster by number of courses?\n",
        "# something like this will be needed: filter(:gpa => !ismissing, _)"
      ],
      "metadata": {
        "id": "wkH_dpwsDZaD"
      },
      "execution_count": null
    },
    {
      "cell_type": "markdown",
      "source": [
        "---\n"
      ],
      "metadata": {
        "id": "GY5nkcH5DZaD"
      }
    },
    {
      "cell_type": "markdown",
      "source": [
        "## Visualization\n"
      ],
      "metadata": {
        "internals": {
          "slide_type": "subslide",
          "slide_helper": "subslide_end"
        },
        "slide_helper": "slide_end",
        "id": "xRpMKpw7DZaE"
      }
    },
    {
      "cell_type": "markdown",
      "source": [
        "A visualization might be helpful. `Julia` has a few add-on packages for making plots: `PyPlot` uses the Python package `Matplotlib`; `GR` uses the GR graphing package; `Plots` is a very useful interface to those backends and others; `Makie` is a powerful package written in `Julia` which shines with 3-d graphics. Here we use the `PlotlyLight` interface to PlotlyJS, as it works quickly under colab.\n"
      ],
      "metadata": {
        "id": "skfVaQZVDZaE"
      }
    },
    {
      "outputs": [],
      "cell_type": "code",
      "source": [
        "# Pkg.add(\"PlotlyLight\")\n",
        "using PlotlyLight"
      ],
      "metadata": {
        "id": "vAJQcYozDZaF"
      },
      "execution_count": null
    },
    {
      "cell_type": "markdown",
      "source": [
        "`PlotlyLight` is a *lightweight* interface to PlotlyJS, with `Config` used to create `JSON` from `Julia` objects. The PlotlyJS API has some shortcuts to make multiple plots, but for pedagogical reasons we show how to add each at once.\n"
      ],
      "metadata": {
        "id": "1NTe9KzhDZaG"
      }
    },
    {
      "cell_type": "markdown",
      "source": [
        "For this graphic we have to be careful to remove the values on the diagonal, as we are looking for when students leave. First we define a function to make the plotting data (`x`, `y` values and a label) for a given semester.\n"
      ],
      "metadata": {
        "id": "hFVkrucRDZaG"
      }
    },
    {
      "outputs": [],
      "cell_type": "code",
      "source": [
        "function gather_data(s)\n",
        "    sem = first(s.F)\n",
        "\tm = maximum(s.semesters)\n",
        "    n = length(s.semesters)\n",
        "\n",
        "\txs = 0.5:0.5:m\n",
        "\tys = [sum(s.semesters .== i) for i ∈ xs] ./ n\n",
        "\n",
        "    (x = xs[1:end-1], y = ys[1:end-1], name = string(sem))\n",
        "end"
      ],
      "metadata": {
        "id": "yyHpJ9xdDZaH"
      },
      "execution_count": null
    },
    {
      "cell_type": "markdown",
      "source": [
        "To make different plots with `PlotlyLight`, we set up a basic configuration, and reuse this for each layer:\n"
      ],
      "metadata": {
        "id": "hiwY8RjRDZaI"
      }
    },
    {
      "outputs": [],
      "cell_type": "code",
      "source": [
        "cfg = Config(type=\"scatter\", mode=\"lines markers\")\n",
        "data = Config[]  # a typed array with no elements\n",
        "for s  ∈ groupby(d, :F)\n",
        "    first(s.F) == 1229 && continue\n",
        "    plt = copy(cfg)\n",
        "    plt.x, plt.y, plt.name = gather_data(s)\n",
        "    push!(data, plt)\n",
        "end\n",
        "lyt = Config(width=800, height=500)\n",
        "Plot(data, lyt)"
      ],
      "metadata": {
        "id": "E3tclFOGDZaJ"
      },
      "execution_count": null
    },
    {
      "cell_type": "markdown",
      "source": [
        "A similar plot could be formed from the frequency table. In the above, we needlessly recreate that construction in `gather_data` with the comprehension.\n"
      ],
      "metadata": {
        "id": "yYEMuVJCDZaJ"
      }
    },
    {
      "cell_type": "markdown",
      "source": [
        "---\n"
      ],
      "metadata": {
        "id": "NtLsxrxoDZaK"
      }
    },
    {
      "outputs": [],
      "cell_type": "code",
      "source": [
        "# 💻 filter out students so only those that started in a fall from fall 19 to fall 22 are shown."
      ],
      "metadata": {
        "id": "YL_S7LFQDZaK"
      },
      "execution_count": null
    },
    {
      "cell_type": "markdown",
      "source": [
        "---\n"
      ],
      "metadata": {
        "id": "2guwSYijDZaL"
      }
    },
    {
      "cell_type": "markdown",
      "source": [
        "Restricting the semesters details a bit more change in the patterns due to the pandemic. We might see an increase in students leaving after an initial semester.\n"
      ],
      "metadata": {
        "id": "DaF4MIwCDZaM"
      }
    },
    {
      "cell_type": "markdown",
      "source": [
        "## More data management\n"
      ],
      "metadata": {
        "internals": {
          "slide_type": "subslide",
          "slide_helper": "subslide_end"
        },
        "slide_helper": "slide_end",
        "id": "uQ-kDydFDZaM"
      }
    },
    {
      "cell_type": "markdown",
      "source": [
        "Suppose that is to be looked at, we might want to see if the GPA has something to do with it. Perhaps it is lack of preparation due to the pandemic, perhaps not.\n"
      ],
      "metadata": {
        "id": "NVaLczhYDZaN"
      }
    },
    {
      "cell_type": "markdown",
      "source": [
        "The `gpa` value is numeric, but we would prefer it be categorical. The `cut` function from the `CategoricalArrays` can perform that classification:\n"
      ],
      "metadata": {
        "id": "nMypBX94DZaN"
      }
    },
    {
      "outputs": [],
      "cell_type": "code",
      "source": [
        "#Pkg.add(\"CategoricalArrays\")\n",
        "import CategoricalArrays: cut"
      ],
      "metadata": {
        "id": "NhUWGQ1ZDZaO"
      },
      "execution_count": null
    },
    {
      "outputs": [],
      "cell_type": "code",
      "source": [
        "rcode(gpa) = cut(gpa, [0.0, 2.0, 3.0, Inf];\n",
        "                 labels=[\"lo\", \"medium\", \"hi\"])\n",
        "transform!(d, :gpa => rcode => :status)"
      ],
      "metadata": {
        "id": "weXVXaMtDZaP"
      },
      "execution_count": null
    },
    {
      "outputs": [],
      "cell_type": "code",
      "source": [
        "@chain d begin\n",
        "    filter(start_semester(:fall), _)\n",
        "    filter(:semesters => ==(0.5), _)\n",
        "    freqtable(_.F, _.status)\n",
        "end"
      ],
      "metadata": {
        "id": "BgtkrArGDZaP"
      },
      "execution_count": null
    },
    {
      "cell_type": "markdown",
      "source": [
        "Working a bit more, we want to manipulate the frequency table, but our tools are easier with DataFrames. Unfortunately, we don't have the most direct conversion. Here we extract its values and column names for the data frame, then insert the rownames as the first column of our data frame\n"
      ],
      "metadata": {
        "id": "aCS55TSIDZaQ"
      }
    },
    {
      "outputs": [],
      "cell_type": "code",
      "source": [
        "\"\"\"\n",
        "    nt_2_df(m::NamedTable; nm=:ID)\n",
        "\n",
        "Convert named table (e.g., from `FreqTables`) into data frame.\n",
        "\"\"\"\n",
        "function nt_2_df(m; nm=:ID)\n",
        "    rnames, cnames = names(m, 1), names(m, 2)\n",
        "\tD = DataFrame(m.array, (Symbol∘string).(cnames))\n",
        "\tinsertcols!(D, 1, nm => rnames)\n",
        "    D\n",
        "end"
      ],
      "metadata": {
        "id": "iDBf6JzWDZaQ"
      },
      "execution_count": null
    },
    {
      "outputs": [],
      "cell_type": "code",
      "source": [
        "_prop(x...) = sum(x[1:end-1]) / x[end]\n",
        "\n",
        "@chain d begin\n",
        "    filter(:F => !=(1229), _)\n",
        "    filter(:semesters => ==(0.5), _)\n",
        "    freqtable(_.F, _.status)\n",
        "    nt_2_df\n",
        "    combine(:ID, Not(:ID) => (+) => :N, :)\n",
        "    combine(:ID, :N,\n",
        "            [:lo, :missing, :N] => ByRow(_prop) => :lo,\n",
        "            [:medium, :N] => ByRow(_prop) => :medium,\n",
        "            [:hi, :N] => ByRow(_prop) => :hi)\n",
        "end\n"
      ],
      "metadata": {
        "id": "LsSqGqnbDZaR"
      },
      "execution_count": null
    },
    {
      "cell_type": "markdown",
      "source": [
        "## Tangent: overriding a base method\n"
      ],
      "metadata": {
        "internals": {
          "slide_type": "subslide",
          "slide_helper": "subslide_end"
        },
        "slide_helper": "slide_end",
        "id": "FY804bTCDZaS"
      }
    },
    {
      "cell_type": "markdown",
      "source": [
        "This shoehorns in an example of defining a user defined structure and custom `show` method, a common, easy-to-do, practice.\n"
      ],
      "metadata": {
        "id": "Wr8f_JzNDZaS"
      }
    },
    {
      "cell_type": "markdown",
      "source": [
        "This example is to create an alternate display for the table we saw previously:\n"
      ],
      "metadata": {
        "id": "ItQGInU-DZaT"
      }
    },
    {
      "outputs": [],
      "cell_type": "code",
      "source": [
        "sems = unique(d.semesters)\n",
        "cnt = Dict(s => 0 for s ∈ sems)  # initialize with a generator\n",
        "for r ∈ eachrow(d)\n",
        "    cnt[r.semesters] += 1\n",
        "end\n",
        "cnt"
      ],
      "metadata": {
        "id": "gbQiyTpUDZaT"
      },
      "execution_count": null
    },
    {
      "cell_type": "markdown",
      "source": [
        "Defining new types is as easy as calling `struct` appropriately:\n"
      ],
      "metadata": {
        "id": "7PA9bWGADZaU"
      }
    },
    {
      "outputs": [],
      "cell_type": "code",
      "source": [
        "struct PrisonCount\n",
        "    x::Int\n",
        "end"
      ],
      "metadata": {
        "id": "jwHOFavbDZaV"
      },
      "execution_count": null
    },
    {
      "cell_type": "markdown",
      "source": [
        "This creates an immutable struct, mutable structs are also possible.\n"
      ],
      "metadata": {
        "id": "LETbhbljDZaV"
      }
    },
    {
      "cell_type": "markdown",
      "source": [
        "We use the following Unicode string for the display:\n"
      ],
      "metadata": {
        "id": "Ah8_6EDtDZaW"
      }
    },
    {
      "outputs": [],
      "cell_type": "code",
      "source": [
        "tallies =  \"\\u007C\"^4*\"\\u0338 \""
      ],
      "metadata": {
        "id": "JoX9PtvwDZaW"
      },
      "execution_count": null
    },
    {
      "cell_type": "markdown",
      "source": [
        "Unicode is more commonly entered using LaTeX shortcuts (e.g., `\\alpha[tab]`), the above uses code points. It also illustrates that `^` for strings is repetition and `*` is concatenation.\n"
      ],
      "metadata": {
        "id": "KOG8sYX6DZaX"
      }
    },
    {
      "cell_type": "markdown",
      "source": [
        "To override the base `show` method for our new type, the method must be imported or qualified, as below, and the acceptable types of `x` below must be narrowed:\n"
      ],
      "metadata": {
        "id": "_XrKkwkUDZaX"
      }
    },
    {
      "outputs": [],
      "cell_type": "code",
      "source": [
        "function Base.show(io::IO, x::PrisonCount)\n",
        "    d,r = divrem(x.x, 5)\n",
        "    if d > 10\n",
        "       print(io, \"($d*5)... + \")\n",
        "       d = mod(d, 10)\n",
        "    end\n",
        "    print(io, tallies^d)\n",
        "    println(io, tallies[1:r]) # add newline at end\n",
        "end"
      ],
      "metadata": {
        "id": "27bgQJRbDZaY"
      },
      "execution_count": null
    },
    {
      "cell_type": "markdown",
      "source": [
        "  * `Julia` permits a user to override base types for any type, but the common practice is to only do so for types that a package developer ones. \"Type piracy\" can be an issue.\n",
        "  * The `show` method defined above is the catch all, there is also the ability to override based on the MIME type of the display. This notebook shows objects differently than the command line.\n",
        "  * Indexing into a string is fruitfully done above. The empty range created by `1:r` when `r=0` requires no special case.\n"
      ],
      "metadata": {
        "id": "b4otw24MDZaZ"
      }
    },
    {
      "cell_type": "markdown",
      "source": [
        "Finally, we want to see the result\n"
      ],
      "metadata": {
        "id": "uwQ0QPu9DZaZ"
      }
    },
    {
      "outputs": [],
      "cell_type": "code",
      "source": [
        "for k ∈ sort(collect(keys(cnt)))\n",
        "    print(k, \" | \")\n",
        "    print(PrisonCount(cnt[k]))\n",
        "end"
      ],
      "metadata": {
        "id": "R4a4BuG-DZaa"
      },
      "execution_count": null
    }
  ]
}